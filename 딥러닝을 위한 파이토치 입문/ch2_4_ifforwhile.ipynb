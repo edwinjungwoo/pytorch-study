{
  "nbformat": 4,
  "nbformat_minor": 0,
  "metadata": {
    "colab": {
      "name": "ch2_4_ifforwhile.ipynb",
      "provenance": [],
      "collapsed_sections": []
    },
    "kernelspec": {
      "name": "python3",
      "display_name": "Python 3"
    },
    "language_info": {
      "name": "python"
    }
  },
  "cells": [
    {
      "cell_type": "code",
      "execution_count": 1,
      "metadata": {
        "colab": {
          "base_uri": "https://localhost:8080/"
        },
        "id": "Yciby7vY9Tov",
        "outputId": "a429c8ff-1171-4fad-a956-fe466df61079"
      },
      "outputs": [
        {
          "output_type": "stream",
          "name": "stdout",
          "text": [
            "x != 1\n"
          ]
        }
      ],
      "source": [
        "# 2.4.1 if문\n",
        "\n",
        "x = 10\n",
        "if x == 1:\n",
        "  print(\"x = 1\")\n",
        "else:\n",
        "  print(\"x != 1\")"
      ]
    },
    {
      "cell_type": "code",
      "source": [
        "x = 10\n",
        "\n",
        "if x == 1:\n",
        "  print(\"x는 1 입니다.\")\n",
        "elif x == 2:\n",
        "  print(\"x는 2 입니다.\")\n",
        "elif x == 3:\n",
        "  print(\"x는 3 입니다.\")\n",
        "else:\n",
        "  print(\"x는 4 이상 입니다.\")"
      ],
      "metadata": {
        "colab": {
          "base_uri": "https://localhost:8080/"
        },
        "id": "-R8dYv1w--6c",
        "outputId": "763c3abb-8209-4993-d5ac-d5f38b39c7c4"
      },
      "execution_count": 2,
      "outputs": [
        {
          "output_type": "stream",
          "name": "stdout",
          "text": [
            "x는 4 이상 입니다.\n"
          ]
        }
      ]
    },
    {
      "cell_type": "code",
      "source": [
        "# 2.4.2 for문\n",
        "\n",
        "for i in range(5):\n",
        "  print(i)"
      ],
      "metadata": {
        "colab": {
          "base_uri": "https://localhost:8080/"
        },
        "id": "LTUcCMFo_Vwl",
        "outputId": "fe6f5a31-1622-47f8-d122-af3bd537bf9f"
      },
      "execution_count": 3,
      "outputs": [
        {
          "output_type": "stream",
          "name": "stdout",
          "text": [
            "0\n",
            "1\n",
            "2\n",
            "3\n",
            "4\n"
          ]
        }
      ]
    },
    {
      "cell_type": "code",
      "source": [
        "# 2.4.3 while문\n",
        "\n",
        "i = 0\n",
        "while i < 5:\n",
        "  print(i)\n",
        "  i += 1"
      ],
      "metadata": {
        "colab": {
          "base_uri": "https://localhost:8080/"
        },
        "id": "ZZ0NovLk_de7",
        "outputId": "2310cbb9-86fb-4e14-a317-4f9f8e81d72b"
      },
      "execution_count": 4,
      "outputs": [
        {
          "output_type": "stream",
          "name": "stdout",
          "text": [
            "0\n",
            "1\n",
            "2\n",
            "3\n",
            "4\n"
          ]
        }
      ]
    },
    {
      "cell_type": "code",
      "source": [
        "# 2.4.4 break, continue문\n",
        "\n",
        "for i in range(5):\n",
        "  if i == 3:\n",
        "    continue    # continue가 있는 조건문에 들어오면 해당 반복 회차를 건너뜀\n",
        "  print(i)"
      ],
      "metadata": {
        "colab": {
          "base_uri": "https://localhost:8080/"
        },
        "id": "Ld_4c4vq_lMW",
        "outputId": "33238e15-522f-4283-a7f6-f728539aaeec"
      },
      "execution_count": 5,
      "outputs": [
        {
          "output_type": "stream",
          "name": "stdout",
          "text": [
            "0\n",
            "1\n",
            "2\n",
            "4\n"
          ]
        }
      ]
    },
    {
      "cell_type": "code",
      "source": [
        "for i in range(5):\n",
        "  if i == 3:\n",
        "    break\n",
        "  print(i)"
      ],
      "metadata": {
        "colab": {
          "base_uri": "https://localhost:8080/"
        },
        "id": "OT7ATnXR_zaw",
        "outputId": "1ec1a33f-7c3d-45e1-df65-467536e24830"
      },
      "execution_count": 6,
      "outputs": [
        {
          "output_type": "stream",
          "name": "stdout",
          "text": [
            "0\n",
            "1\n",
            "2\n"
          ]
        }
      ]
    },
    {
      "cell_type": "code",
      "source": [
        "# 2.4.5 try & except문\n",
        "\n",
        "x = [1, 2, 3, \"s\", 4, 5]\n",
        "for i in x:\n",
        "  try:\n",
        "    y = i + 1\n",
        "    print(y)\n",
        "  except:\n",
        "    pass"
      ],
      "metadata": {
        "colab": {
          "base_uri": "https://localhost:8080/"
        },
        "id": "n69z0JRj_4bh",
        "outputId": "8a21a769-7f9b-4f68-98b3-3592604601b5"
      },
      "execution_count": 7,
      "outputs": [
        {
          "output_type": "stream",
          "name": "stdout",
          "text": [
            "2\n",
            "3\n",
            "4\n",
            "5\n",
            "6\n"
          ]
        }
      ]
    },
    {
      "cell_type": "code",
      "source": [
        "import numpy as np\n",
        "Z = np.random.randint(0, 2, (2,3))\n",
        "\n",
        "for z in Z:\n",
        "  cond = sum(z)\n",
        "  if cond == 3:\n",
        "    print(\"1등 입니다.\")\n",
        "  elif cond == 0:\n",
        "    print(\"2등 입니다.\")\n",
        "  elif (cond == 2) and (z[0] == 1):\n",
        "    print(\"3등 입니다.\")\n",
        "  else:\n",
        "    print(\"꽝 입니다.\")"
      ],
      "metadata": {
        "colab": {
          "base_uri": "https://localhost:8080/"
        },
        "id": "lFFM3ykIAVZ2",
        "outputId": "6a94ca88-6839-45bf-93da-e6478b1f4912"
      },
      "execution_count": 23,
      "outputs": [
        {
          "output_type": "stream",
          "name": "stdout",
          "text": [
            "꽝 입니다.\n",
            "1등 입니다.\n"
          ]
        }
      ]
    },
    {
      "cell_type": "code",
      "source": [
        ""
      ],
      "metadata": {
        "id": "8hZ21lanBtsS"
      },
      "execution_count": 14,
      "outputs": []
    }
  ]
}