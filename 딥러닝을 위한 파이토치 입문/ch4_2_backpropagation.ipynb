{
  "nbformat": 4,
  "nbformat_minor": 0,
  "metadata": {
    "colab": {
      "name": "ch4_2_backpropagation.ipynb",
      "provenance": [],
      "collapsed_sections": []
    },
    "kernelspec": {
      "name": "python3",
      "display_name": "Python 3"
    },
    "language_info": {
      "name": "python"
    }
  },
  "cells": [
    {
      "cell_type": "code",
      "execution_count": 1,
      "metadata": {
        "colab": {
          "base_uri": "https://localhost:8080/"
        },
        "id": "4vIG29hcmjom",
        "outputId": "3230e3e6-823c-4928-f10c-811378f768e1"
      },
      "outputs": [
        {
          "output_type": "stream",
          "name": "stdout",
          "text": [
            "Result:  tensor(8., grad_fn=<MeanBackward0>)\n"
          ]
        }
      ],
      "source": [
        "# 4.2.1 Gradient Tensor\n",
        "\n",
        "import torch\n",
        "\n",
        "x=torch.ones(2, 2, requires_grad = True)    # requires_grad는 해당 텐서를 기준으로 모든 연산들을 추적해 Gradient라고 하는 미분값의 배열을 계산할 수 있게 함\n",
        "y = x+1\n",
        "z = 2*y**2\n",
        "r = z.mean()\n",
        "print(\"Result: \", r)"
      ]
    },
    {
      "cell_type": "code",
      "source": [
        "r.backward()\n",
        "print(x.grad)"
      ],
      "metadata": {
        "colab": {
          "base_uri": "https://localhost:8080/"
        },
        "id": "bLyA0Va6eVvU",
        "outputId": "a04371e6-c5fe-47e9-94e9-732629118a09"
      },
      "execution_count": 2,
      "outputs": [
        {
          "output_type": "stream",
          "name": "stdout",
          "text": [
            "tensor([[2., 2.],\n",
            "        [2., 2.]])\n"
          ]
        }
      ]
    },
    {
      "cell_type": "code",
      "source": [
        "# 4.2.2 자동 미분 - 선형회귀식\n",
        "import torch\n",
        "import matplotlib.pyplot as plt\n",
        "\n",
        "x = torch.FloatTensor(range(5)).unsqueeze(1)    # range(5)를 이용해 tensor를 만들고 unsqueeze(1)는 1번째 위치의 차원을 늘리는 역할 -> torch.Size(5,1)\n",
        "y = 2*x + torch.rand(5,1)\n",
        "num_features = x.shape[1]"
      ],
      "metadata": {
        "id": "MNXezOIhetaQ"
      },
      "execution_count": 3,
      "outputs": []
    },
    {
      "cell_type": "code",
      "source": [
        "w = torch.randn(num_features, 1, requires_grad=True)\n",
        "b = torch.randn(1, requires_grad=True)"
      ],
      "metadata": {
        "id": "AFn3TlCSf21n"
      },
      "execution_count": 4,
      "outputs": []
    },
    {
      "cell_type": "code",
      "source": [
        "learning_rate = 1e-3\n",
        "optimizer = optimizer = torch.optim.SGD([w, b], lr = learning_rate)    # 내부에 변수를 리스트로 묶어주고 적절한 학습률을 정하여 자동으로 가중치와 편향을 업데이트"
      ],
      "metadata": {
        "id": "grGipT7jgZbN"
      },
      "execution_count": 5,
      "outputs": []
    },
    {
      "cell_type": "code",
      "source": [
        "loss_stack = []    # 매 epoch마다 손실 함수값을 저장하기 위해 빈 리스트 생성   \n",
        "for epoch in range(1001):\n",
        "\n",
        "  optimizer.zero_grad()    # 최적화는 계산을 누적시키니까 매 epoch마다 누적된 값을 촉초기화\n",
        "  y_hat = torch.matmul(x, w) + b    # 회귀식 모델\n",
        "  loss = torch.mean((y_hat - y) ** 2)    # (예측값 - 실제값)^2 MSE 손실 함수 계산\n",
        "  loss.backward()    # 역전파의 기준을 손실 함수로 설정!!!\n",
        "  optimizer.step()    # 미리 정의한 optimizer로 최적화 시행\n",
        "  loss_stack.append(loss.item())    # 그래프 그리기 위해 손실 함수값만 빈 리스트에 저장\n",
        "\n",
        "  if epoch % 100 == 0:\n",
        "    print(f\"Epoch {epoch}:{loss.item()}\")"
      ],
      "metadata": {
        "colab": {
          "base_uri": "https://localhost:8080/"
        },
        "id": "aC76nUPHgnlY",
        "outputId": "5a58c310-c6c8-4cc2-a9a1-50b57fd9dc1e"
      },
      "execution_count": 7,
      "outputs": [
        {
          "output_type": "stream",
          "name": "stdout",
          "text": [
            "Epoch 0:7.0702972412109375\n",
            "Epoch 100:0.7108709216117859\n",
            "Epoch 200:0.2580054700374603\n",
            "Epoch 300:0.20539669692516327\n",
            "Epoch 400:0.18221251666545868\n",
            "Epoch 500:0.16321951150894165\n",
            "Epoch 600:0.14647069573402405\n",
            "Epoch 700:0.13161417841911316\n",
            "Epoch 800:0.11843027919530869\n",
            "Epoch 900:0.10673041641712189\n",
            "Epoch 1000:0.09634746611118317\n"
          ]
        }
      ]
    },
    {
      "cell_type": "code",
      "source": [
        "with torch.no_grad():\n",
        "  y_hat = torch.matmul(x, w) + b\n",
        "# 최종 학습된 w, b로 예측값 산출, 최적화 사용하지 않으니 no_grad()로 제한"
      ],
      "metadata": {
        "id": "ZJCAqd5zh8kv"
      },
      "execution_count": 8,
      "outputs": []
    },
    {
      "cell_type": "code",
      "source": [
        "plt.figure(figsize=(10, 5))\n",
        "plt.subplot(121)\n",
        "plt.plot(loss_stack)\n",
        "plt.title(\"Loss\")\n",
        "\n",
        "plt.subplot(122)\n",
        "plt.plot(x,y,'b.')\n",
        "plt.plot(x,y_hat,'r-')\n",
        "plt.legend(['ground_truth', 'prediction'])\n",
        "plt.title(\"Prediction\")\n",
        "\n",
        "plt.show()"
      ],
      "metadata": {
        "colab": {
          "base_uri": "https://localhost:8080/",
          "height": 336
        },
        "id": "d6inh9AWlVQV",
        "outputId": "72c5a9da-307b-4567-9810-3ca620f8915b"
      },
      "execution_count": 12,
      "outputs": [
        {
          "output_type": "display_data",
          "data": {
            "text/plain": [
              "<Figure size 720x360 with 2 Axes>"
            ],
            "image/png": "[encoded data removed]"
          },
          "metadata": {
            "needs_background": "light"
          }
        }
      ]
    },
    {
      "cell_type": "code",
      "source": [
        ""
      ],
      "metadata": {
        "id": "2LYf7onHll7p"
      },
      "execution_count": null,
      "outputs": []
    }
  ]
}