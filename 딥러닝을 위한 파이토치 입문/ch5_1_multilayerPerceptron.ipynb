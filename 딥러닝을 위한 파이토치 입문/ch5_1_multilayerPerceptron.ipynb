{
  "nbformat": 4,
  "nbformat_minor": 0,
  "metadata": {
    "colab": {
      "name": "ch5_1_multilayerPerceptron.ipynb",
      "provenance": [],
      "collapsed_sections": []
    },
    "kernelspec": {
      "name": "python3",
      "display_name": "Python 3"
    },
    "language_info": {
      "name": "python"
    }
  },
  "cells": [
    {
      "cell_type": "code",
      "execution_count": 2,
      "metadata": {
        "id": "W6iEvddvO3sL"
      },
      "outputs": [],
      "source": [
        "# 5.1.1 선형 회귀\n",
        "\n",
        "import torch\n",
        "import torch.nn as nn\n",
        "import matplotlib.pyplot as plt"
      ]
    },
    {
      "cell_type": "code",
      "source": [
        "x = torch.FloatTensor(range(5)).unsqueeze(1)\n",
        "y = 2*x + torch.rand(5,1)"
      ],
      "metadata": {
        "id": "8G3flb1mQQS3"
      },
      "execution_count": 3,
      "outputs": []
    },
    {
      "cell_type": "code",
      "source": [
        "class LinearRegressor(nn.Module):\n",
        "  def __init__(self):\n",
        "    super().__init__()\n",
        "    self.fc = nn.Linear(1,1,bias=True)    # 입력 변수 개수, 출력 변수 개수\n",
        "\n",
        "  def forward(self, x):\n",
        "    y = self.fc(x)\n",
        "\n",
        "    return y"
      ],
      "metadata": {
        "id": "efPABRdwR4-s"
      },
      "execution_count": 5,
      "outputs": []
    },
    {
      "cell_type": "code",
      "source": [
        "model = LinearRegressor()\n",
        "learning_rate = 1e-3\n",
        "criterion = nn.MSELoss()\n",
        "optimizer = torch.optim.SGD(model.parameters(), lr = learning_rate)"
      ],
      "metadata": {
        "id": "yCzZXm6bSr2k"
      },
      "execution_count": 6,
      "outputs": []
    },
    {
      "cell_type": "code",
      "source": [
        "loss_stack = []\n",
        "for epoch in range(1001):\n",
        "\n",
        "  optimizer.zero_grad()\n",
        "\n",
        "  y_hat = model(x)\n",
        "  loss = criterion(y_hat, y)\n",
        "\n",
        "  loss.backward()\n",
        "  optimizer.step()\n",
        "  loss_stack.append(loss.item())\n",
        "\n",
        "  if epoch % 100 == 0:\n",
        "    print(f'Epoch {epoch}:{loss.item()}')"
      ],
      "metadata": {
        "colab": {
          "base_uri": "https://localhost:8080/"
        },
        "id": "Ta-jkTQ1TUKN",
        "outputId": "cfc19fe0-4805-42dc-94a8-4100a7089169"
      },
      "execution_count": 7,
      "outputs": [
        {
          "output_type": "stream",
          "name": "stdout",
          "text": [
            "Epoch 0:47.07891082763672\n",
            "Epoch 100:3.2293033599853516\n",
            "Epoch 200:0.27861088514328003\n",
            "Epoch 300:0.07999428361654282\n",
            "Epoch 400:0.06657028198242188\n",
            "Epoch 500:0.06561433523893356\n",
            "Epoch 600:0.06550333648920059\n",
            "Epoch 700:0.0654543787240982\n",
            "Epoch 800:0.06541424989700317\n",
            "Epoch 900:0.06537890434265137\n",
            "Epoch 1000:0.06534761190414429\n"
          ]
        }
      ]
    },
    {
      "cell_type": "code",
      "source": [
        "with torch.no_grad():\n",
        "  y_hat = model(x)"
      ],
      "metadata": {
        "id": "kLmiC2d8TuEE"
      },
      "execution_count": 8,
      "outputs": []
    },
    {
      "cell_type": "code",
      "source": [
        "plt.figure(figsize=(10, 5))\n",
        "plt.subplot(121)\n",
        "plt.plot(loss_stack)\n",
        "plt.subplot(122)\n",
        "plt.plot(x, y, '.b')\n",
        "plt.plot(x, y_hat, 'r-')\n",
        "plt.legend(['ground truth', 'prediction'])\n",
        "plt.title(\"Prediction\")\n",
        "plt.show()"
      ],
      "metadata": {
        "colab": {
          "base_uri": "https://localhost:8080/",
          "height": 336
        },
        "id": "TWEEfRxFT1tL",
        "outputId": "6b3fc2a1-0bda-49fe-ed9c-a7c7c539c398"
      },
      "execution_count": 9,
      "outputs": [
        {
          "output_type": "display_data",
          "data": {
            "text/plain": [
              "<Figure size 720x360 with 2 Axes>"
            ],
            "image/png": "[encoded data removed]"
          },
          "metadata": {
            "needs_background": "light"
          }
        }
      ]
    },
    {
      "cell_type": "code",
      "source": [
        ""
      ],
      "metadata": {
        "id": "IV4lB7X_ahAE"
      },
      "execution_count": null,
      "outputs": []
    }
  ]
}