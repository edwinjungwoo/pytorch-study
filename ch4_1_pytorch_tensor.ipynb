{
  "nbformat": 4,
  "nbformat_minor": 0,
  "metadata": {
    "colab": {
      "name": "ch4_1_pytorch_tensor.ipynb",
      "provenance": [],
      "collapsed_sections": []
    },
    "kernelspec": {
      "name": "python3",
      "display_name": "Python 3"
    },
    "language_info": {
      "name": "python"
    }
  },
  "cells": [
    {
      "cell_type": "code",
      "execution_count": 25,
      "metadata": {
        "id": "0700OSrdb8cl"
      },
      "outputs": [],
      "source": [
        "# Tensor 텐서: 파이토치의 기본 단위, GPU 연산을 가능하게 하고 Numpy 배열과 유사"
      ]
    },
    {
      "cell_type": "code",
      "source": [
        "# 4.1.1\n",
        "import torch\n",
        "import numpy as np\n",
        "\n",
        "x = torch.empty(5,4)\n",
        "print(x)"
      ],
      "metadata": {
        "colab": {
          "base_uri": "https://localhost:8080/"
        },
        "id": "xdLO1SARdmmt",
        "outputId": "569e6652-941f-4f52-88ef-4c17b6710c58"
      },
      "execution_count": 26,
      "outputs": [
        {
          "output_type": "stream",
          "name": "stdout",
          "text": [
            "tensor([[4.9650e-35, 0.0000e+00, 7.0065e-44, 7.0065e-44],\n",
            "        [6.3058e-44, 6.7262e-44, 7.4269e-44, 6.3058e-44],\n",
            "        [6.8664e-44, 7.4269e-44, 1.1771e-43, 6.8664e-44],\n",
            "        [7.0065e-44, 8.1275e-44, 6.7262e-44, 7.1466e-44],\n",
            "        [8.1275e-44, 6.7262e-44, 7.8473e-44, 6.4460e-44]])\n"
          ]
        }
      ]
    },
    {
      "cell_type": "code",
      "source": [
        "torch.ones(3,3)"
      ],
      "metadata": {
        "colab": {
          "base_uri": "https://localhost:8080/"
        },
        "id": "dNw6rVwvf143",
        "outputId": "9f400a6c-468d-4a58-951f-f96a45623316"
      },
      "execution_count": 27,
      "outputs": [
        {
          "output_type": "execute_result",
          "data": {
            "text/plain": [
              "tensor([[1., 1., 1.],\n",
              "        [1., 1., 1.],\n",
              "        [1., 1., 1.]])"
            ]
          },
          "metadata": {},
          "execution_count": 27
        }
      ]
    },
    {
      "cell_type": "code",
      "source": [
        "torch.zeros(2)"
      ],
      "metadata": {
        "colab": {
          "base_uri": "https://localhost:8080/"
        },
        "id": "T2d85WLof_mU",
        "outputId": "fe1b8889-b080-4c32-fc73-a13c3f3c49ae"
      },
      "execution_count": 28,
      "outputs": [
        {
          "output_type": "execute_result",
          "data": {
            "text/plain": [
              "tensor([0., 0.])"
            ]
          },
          "metadata": {},
          "execution_count": 28
        }
      ]
    },
    {
      "cell_type": "code",
      "source": [
        "torch.rand(5,6)"
      ],
      "metadata": {
        "colab": {
          "base_uri": "https://localhost:8080/"
        },
        "id": "bXdK1PNmgBoD",
        "outputId": "3e1df8f9-ac3a-43b9-fa0d-e866df944971"
      },
      "execution_count": 29,
      "outputs": [
        {
          "output_type": "execute_result",
          "data": {
            "text/plain": [
              "tensor([[0.2794, 0.3192, 0.0683, 0.2469, 0.5069, 0.3313],\n",
              "        [0.4776, 0.3345, 0.8773, 0.7668, 0.6838, 0.6292],\n",
              "        [0.0681, 0.0591, 0.6695, 0.5303, 0.6437, 0.5220],\n",
              "        [0.7418, 0.2929, 0.6363, 0.9776, 0.8964, 0.7269],\n",
              "        [0.4240, 0.3979, 0.8107, 0.1928, 0.5390, 0.5084]])"
            ]
          },
          "metadata": {},
          "execution_count": 29
        }
      ]
    },
    {
      "cell_type": "code",
      "source": [
        "# 4.1.2 list, numpy 배열을 tensor로 만들기\n",
        "l = [13, 4]    # 리스트 생성\n",
        "r = np.array([4, 56, 7])\n",
        "torch.tensor(l)"
      ],
      "metadata": {
        "colab": {
          "base_uri": "https://localhost:8080/"
        },
        "id": "Dmu2N5cOgEAn",
        "outputId": "89b183b6-d100-4063-fe70-572dae94e68b"
      },
      "execution_count": 30,
      "outputs": [
        {
          "output_type": "execute_result",
          "data": {
            "text/plain": [
              "tensor([13,  4])"
            ]
          },
          "metadata": {},
          "execution_count": 30
        }
      ]
    },
    {
      "cell_type": "code",
      "source": [
        "torch.tensor(r)"
      ],
      "metadata": {
        "colab": {
          "base_uri": "https://localhost:8080/"
        },
        "id": "fD1eNfUPh1q0",
        "outputId": "bd3a875f-6f78-459f-b6b5-2aaff6252f89"
      },
      "execution_count": 31,
      "outputs": [
        {
          "output_type": "execute_result",
          "data": {
            "text/plain": [
              "tensor([ 4, 56,  7])"
            ]
          },
          "metadata": {},
          "execution_count": 31
        }
      ]
    },
    {
      "cell_type": "code",
      "source": [
        "# 4.1.3 tensor의 크기, 타입, 연산\n",
        "x"
      ],
      "metadata": {
        "colab": {
          "base_uri": "https://localhost:8080/"
        },
        "id": "G36Ct5zoh4AO",
        "outputId": "45d076c0-4505-4e85-8362-bc3dfa8e7058"
      },
      "execution_count": 32,
      "outputs": [
        {
          "output_type": "execute_result",
          "data": {
            "text/plain": [
              "tensor([[4.9650e-35, 0.0000e+00, 7.0065e-44, 7.0065e-44],\n",
              "        [6.3058e-44, 6.7262e-44, 7.4269e-44, 6.3058e-44],\n",
              "        [6.8664e-44, 7.4269e-44, 1.1771e-43, 6.8664e-44],\n",
              "        [7.0065e-44, 8.1275e-44, 6.7262e-44, 7.1466e-44],\n",
              "        [8.1275e-44, 6.7262e-44, 7.8473e-44, 6.4460e-44]])"
            ]
          },
          "metadata": {},
          "execution_count": 32
        }
      ]
    },
    {
      "cell_type": "code",
      "source": [
        "x.size()"
      ],
      "metadata": {
        "colab": {
          "base_uri": "https://localhost:8080/"
        },
        "id": "9XfoBylmiE4n",
        "outputId": "f007e1f0-ab54-4550-965d-b0f96a08b712"
      },
      "execution_count": 33,
      "outputs": [
        {
          "output_type": "execute_result",
          "data": {
            "text/plain": [
              "torch.Size([5, 4])"
            ]
          },
          "metadata": {},
          "execution_count": 33
        }
      ]
    },
    {
      "cell_type": "code",
      "source": [
        "x.size()[1]"
      ],
      "metadata": {
        "colab": {
          "base_uri": "https://localhost:8080/"
        },
        "id": "2pU4_0nNiGVb",
        "outputId": "49f2b792-a6b7-4f81-f5c6-5e366b19222b"
      },
      "execution_count": 34,
      "outputs": [
        {
          "output_type": "execute_result",
          "data": {
            "text/plain": [
              "4"
            ]
          },
          "metadata": {},
          "execution_count": 34
        }
      ]
    },
    {
      "cell_type": "code",
      "source": [
        "type(x)"
      ],
      "metadata": {
        "colab": {
          "base_uri": "https://localhost:8080/"
        },
        "id": "bd7HaNnFiIHW",
        "outputId": "a1e65fa2-882c-4969-f61c-eaf21b3db6d9"
      },
      "execution_count": 35,
      "outputs": [
        {
          "output_type": "execute_result",
          "data": {
            "text/plain": [
              "torch.Tensor"
            ]
          },
          "metadata": {},
          "execution_count": 35
        }
      ]
    },
    {
      "cell_type": "code",
      "source": [
        "x = torch.rand(2,2)\n",
        "y = torch.rand(2,2)\n",
        "x+y"
      ],
      "metadata": {
        "colab": {
          "base_uri": "https://localhost:8080/"
        },
        "id": "jcRsHf3XiJmR",
        "outputId": "04e6bdf2-e5ff-4953-aeb9-ad175177244a"
      },
      "execution_count": 36,
      "outputs": [
        {
          "output_type": "execute_result",
          "data": {
            "text/plain": [
              "tensor([[0.6225, 1.2039],\n",
              "        [0.8680, 1.6667]])"
            ]
          },
          "metadata": {},
          "execution_count": 36
        }
      ]
    },
    {
      "cell_type": "code",
      "source": [
        "torch.add(x,y)"
      ],
      "metadata": {
        "colab": {
          "base_uri": "https://localhost:8080/"
        },
        "id": "F76_njAJiO_g",
        "outputId": "5e612ded-b2e2-478e-86dc-8dfd9278b7a6"
      },
      "execution_count": 37,
      "outputs": [
        {
          "output_type": "execute_result",
          "data": {
            "text/plain": [
              "tensor([[0.6225, 1.2039],\n",
              "        [0.8680, 1.6667]])"
            ]
          },
          "metadata": {},
          "execution_count": 37
        }
      ]
    },
    {
      "cell_type": "code",
      "source": [
        "y.add(x)"
      ],
      "metadata": {
        "colab": {
          "base_uri": "https://localhost:8080/"
        },
        "id": "XVIh4mk5iZbZ",
        "outputId": "a4294872-9793-4bf8-fdfe-703dde115520"
      },
      "execution_count": 38,
      "outputs": [
        {
          "output_type": "execute_result",
          "data": {
            "text/plain": [
              "tensor([[0.6225, 1.2039],\n",
              "        [0.8680, 1.6667]])"
            ]
          },
          "metadata": {},
          "execution_count": 38
        }
      ]
    },
    {
      "cell_type": "code",
      "source": [
        "y.add_(x)\n",
        "y    # in-place 방식으로 기존 값을 덮어 씌움"
      ],
      "metadata": {
        "colab": {
          "base_uri": "https://localhost:8080/"
        },
        "id": "oH_SjLYoiaY_",
        "outputId": "5cd7be89-f120-4819-dc8f-d7f6e93c9f4e"
      },
      "execution_count": 39,
      "outputs": [
        {
          "output_type": "execute_result",
          "data": {
            "text/plain": [
              "tensor([[0.6225, 1.2039],\n",
              "        [0.8680, 1.6667]])"
            ]
          },
          "metadata": {},
          "execution_count": 39
        }
      ]
    },
    {
      "cell_type": "code",
      "source": [
        "# 4.1.4 Tensor 크기 변환\n",
        "\n",
        "x = torch.rand(8,8)\n",
        "print(x.size())"
      ],
      "metadata": {
        "colab": {
          "base_uri": "https://localhost:8080/"
        },
        "id": "yMWKgTQNkGrW",
        "outputId": "94c6b2d7-e5bf-40a2-83b5-81b9d20fab1e"
      },
      "execution_count": 40,
      "outputs": [
        {
          "output_type": "stream",
          "name": "stdout",
          "text": [
            "torch.Size([8, 8])\n"
          ]
        }
      ]
    },
    {
      "cell_type": "code",
      "source": [
        "a = x.view(64)    # 크기를 바꿔주는 view -> 64개 일렬로\n",
        "print(a.size())"
      ],
      "metadata": {
        "colab": {
          "base_uri": "https://localhost:8080/"
        },
        "id": "YK57spUckoca",
        "outputId": "b6e6f53e-5515-4943-a2b0-b5c4a12008de"
      },
      "execution_count": 41,
      "outputs": [
        {
          "output_type": "stream",
          "name": "stdout",
          "text": [
            "torch.Size([64])\n"
          ]
        }
      ]
    },
    {
      "cell_type": "code",
      "source": [
        "b = x.view(-1, 4, 4)    # -1은 원래 크기(8*8)이 되게 하는 값이므로 4가 할당\n",
        "print(b.size())"
      ],
      "metadata": {
        "colab": {
          "base_uri": "https://localhost:8080/"
        },
        "id": "a4dOcz-RkwrC",
        "outputId": "44f69307-0182-4369-804e-3915cc117493"
      },
      "execution_count": 42,
      "outputs": [
        {
          "output_type": "stream",
          "name": "stdout",
          "text": [
            "torch.Size([4, 4, 4])\n"
          ]
        }
      ]
    },
    {
      "cell_type": "code",
      "source": [
        "# 4.1.5 tensor에서 numpy 배열로\n",
        "x = torch.rand(8,8)\n",
        "y = x.numpy()\n",
        "type(y)"
      ],
      "metadata": {
        "colab": {
          "base_uri": "https://localhost:8080/"
        },
        "id": "Rdfb5Y9Ukw76",
        "outputId": "1cb5693c-c4a0-4540-b60d-60529717f680"
      },
      "execution_count": 43,
      "outputs": [
        {
          "output_type": "execute_result",
          "data": {
            "text/plain": [
              "numpy.ndarray"
            ]
          },
          "metadata": {},
          "execution_count": 43
        }
      ]
    },
    {
      "cell_type": "code",
      "source": [
        "# 4.1.6 단일 tensor에서 값으로 반환\n",
        "x = torch.ones(1)\n",
        "print(x.item())"
      ],
      "metadata": {
        "colab": {
          "base_uri": "https://localhost:8080/"
        },
        "id": "Yji7uPP2mDg-",
        "outputId": "5465f454-bfac-459c-b6d8-3b08c7f974f9"
      },
      "execution_count": 44,
      "outputs": [
        {
          "output_type": "stream",
          "name": "stdout",
          "text": [
            "1.0\n"
          ]
        }
      ]
    },
    {
      "cell_type": "code",
      "source": [
        ""
      ],
      "metadata": {
        "id": "GTQ4m-09mKxC"
      },
      "execution_count": 44,
      "outputs": []
    }
  ]
}