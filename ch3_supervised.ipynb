{
  "nbformat": 4,
  "nbformat_minor": 0,
  "metadata": {
    "colab": {
      "name": "ch3_supervised",
      "provenance": [],
      "collapsed_sections": []
    },
    "kernelspec": {
      "name": "python3",
      "display_name": "Python 3"
    },
    "language_info": {
      "name": "python"
    }
  },
  "cells": [
    {
      "cell_type": "code",
      "execution_count": 1,
      "metadata": {
        "colab": {
          "base_uri": "https://localhost:8080/",
          "height": 53
        },
        "id": "W5lHPDFX_rDg",
        "outputId": "9f7e00b7-c35a-4990-91b9-5537e443a5f0"
      },
      "outputs": [
        {
          "output_type": "execute_result",
          "data": {
            "text/plain": [
              "'\\n# 데이터 정의\\ntrain_data = ...\\ntrain_loader = ...\\n# 반복 학습\\nfor epoch in range(num_epochs):    # 전체 데이터에 대한 반복 학습\\n  for inputs, labels in train_loader    # 입력값과 실제값\\n    (중략)\\n    optimizer.zero_grad()\\n    outputs = model(inputs)\\n    loss = critierion(outputs, labels)\\n    loss.backward()\\n    optimizer.step()\\n'"
            ],
            "application/vnd.google.colaboratory.intrinsic+json": {
              "type": "string"
            }
          },
          "metadata": {},
          "execution_count": 1
        }
      ],
      "source": [
        "'''\n",
        "# 데이터 정의\n",
        "train_data = ...\n",
        "train_loader = ...\n",
        "# 반복 학습\n",
        "for epoch in range(num_epochs):    # 전체 데이터에 대한 반복 학습\n",
        "  for inputs, labels in train_loader    # 입력값과 실제값\n",
        "    (중략)\n",
        "    optimizer.zero_grad()\n",
        "    outputs = model(inputs)\n",
        "    loss = critierion(outputs, labels)\n",
        "    loss.backward()\n",
        "    optimizer.step()\n",
        "'''"
      ]
    },
    {
      "cell_type": "code",
      "source": [
        "import numpy as np\n",
        "from sklearn.model_selection import train_test_split\n",
        "\n",
        "X, y = np.arange(1000).reshape(100, 10), np.arange(100)\n",
        "X_train, X_test, y_train, y_test = train_test_split(X, y, test_size=0.3, random_state=0)"
      ],
      "metadata": {
        "id": "BfSSxF_8X9I0"
      },
      "execution_count": 3,
      "outputs": []
    },
    {
      "cell_type": "code",
      "source": [
        "import numpy as np\n",
        "from sklearn.model_selection import train_test_split\n",
        "X, y = np.arange(1000).reshape(100, 10), np.arange(100)\n",
        "# 훈련 세트 분할\n",
        "X_train, X_test, y_train, y_test = train_test_split(X, y, test_size = 0.4, random_state=0)\n",
        "# 검증 세트 분할\n",
        "X_test, X_val, y_test, y_val = train_test_split(X_test, y_test, test_size=0.5, random_state=1)"
      ],
      "metadata": {
        "id": "_xsnDdHCYgtd"
      },
      "execution_count": 4,
      "outputs": []
    },
    {
      "cell_type": "code",
      "source": [
        "X_train.shape, X_val.shape, X_test.shape"
      ],
      "metadata": {
        "colab": {
          "base_uri": "https://localhost:8080/"
        },
        "id": "nN6orMe_bQTK",
        "outputId": "59d0134a-d202-4da1-f8eb-ca1b8cc496f0"
      },
      "execution_count": 9,
      "outputs": [
        {
          "output_type": "execute_result",
          "data": {
            "text/plain": [
              "((60, 10), (20, 10), (20, 10))"
            ]
          },
          "metadata": {},
          "execution_count": 9
        }
      ]
    },
    {
      "cell_type": "code",
      "source": [
        "y_test.shape, y_val.shape, y_test.shape"
      ],
      "metadata": {
        "colab": {
          "base_uri": "https://localhost:8080/"
        },
        "id": "z2EuW7r9bX1e",
        "outputId": "972cf26b-ec0b-4e74-93d6-8c2b4560257a"
      },
      "execution_count": 10,
      "outputs": [
        {
          "output_type": "execute_result",
          "data": {
            "text/plain": [
              "((20,), (20,), (20,))"
            ]
          },
          "metadata": {},
          "execution_count": 10
        }
      ]
    },
    {
      "cell_type": "code",
      "source": [
        ""
      ],
      "metadata": {
        "id": "RScuksqSbvEP"
      },
      "execution_count": null,
      "outputs": []
    }
  ]
}