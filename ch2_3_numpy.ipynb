{
  "nbformat": 4,
  "nbformat_minor": 0,
  "metadata": {
    "colab": {
      "name": "ch2.3_numpy",
      "provenance": [],
      "collapsed_sections": []
    },
    "kernelspec": {
      "name": "python3",
      "display_name": "Python 3"
    },
    "language_info": {
      "name": "python"
    }
  },
  "cells": [
    {
      "cell_type": "code",
      "execution_count": 10,
      "metadata": {
        "colab": {
          "base_uri": "https://localhost:8080/"
        },
        "id": "okkr1OPk03Er",
        "outputId": "381af441-9f08-4aad-fa9d-3d1ea436401a"
      },
      "outputs": [
        {
          "output_type": "stream",
          "name": "stdout",
          "text": [
            "[ 1  5  0 -1]\n",
            " \n",
            " \n",
            "[[[1. 1.]\n",
            "  [1. 1.]]\n",
            "\n",
            " [[1. 1.]\n",
            "  [1. 1.]]]\n",
            " \n",
            " \n",
            "[[0. 0. 0.]\n",
            " [0. 0. 0.]]\n",
            " \n",
            " \n",
            "[0 1 2 3 4 5 6 7 8 9]\n",
            " \n",
            " \n",
            "[ 0.   2.5  5.   7.5 10. ]\n",
            " \n",
            " \n",
            "[7 8 4 4 3]\n",
            " \n",
            " \n"
          ]
        }
      ],
      "source": [
        "# 2.3.1 여러 가지 배열\n",
        "import numpy as np\n",
        "\n",
        "a = np.array([1, 5, 0, -1])\n",
        "b = np.ones((2, 2, 2))\n",
        "c = np.zeros((2, 3))\n",
        "d = np.arange(10)\n",
        "e = np.linspace(0, 10, 5)\n",
        "f = np.random.randint(2, 10, 5)\n",
        "\n",
        "for i in [a, b, c, d, e, f]:\n",
        "  print(i, end = \"\\n \\n \\n\")"
      ]
    },
    {
      "cell_type": "code",
      "source": [
        "# 2.3.2 배열의 크기와 변환\n",
        "c.shape"
      ],
      "metadata": {
        "colab": {
          "base_uri": "https://localhost:8080/"
        },
        "id": "LY6FJCEA3kaz",
        "outputId": "8fbc9afa-87c7-485a-a0f4-cb7e2cf25f3e"
      },
      "execution_count": 11,
      "outputs": [
        {
          "output_type": "execute_result",
          "data": {
            "text/plain": [
              "(2, 3)"
            ]
          },
          "metadata": {},
          "execution_count": 11
        }
      ]
    },
    {
      "cell_type": "code",
      "source": [
        "len(c)"
      ],
      "metadata": {
        "colab": {
          "base_uri": "https://localhost:8080/"
        },
        "id": "ACPAr9G64ZQA",
        "outputId": "59c547dc-c907-4162-830e-e32c8363fc3b"
      },
      "execution_count": 12,
      "outputs": [
        {
          "output_type": "execute_result",
          "data": {
            "text/plain": [
              "2"
            ]
          },
          "metadata": {},
          "execution_count": 12
        }
      ]
    },
    {
      "cell_type": "code",
      "source": [
        "c.ndim"
      ],
      "metadata": {
        "colab": {
          "base_uri": "https://localhost:8080/"
        },
        "id": "6VqjEWlu4ZpI",
        "outputId": "964eb7bf-8200-40d9-d39e-f514927e4668"
      },
      "execution_count": 13,
      "outputs": [
        {
          "output_type": "execute_result",
          "data": {
            "text/plain": [
              "2"
            ]
          },
          "metadata": {},
          "execution_count": 13
        }
      ]
    },
    {
      "cell_type": "code",
      "source": [
        "c.dtype"
      ],
      "metadata": {
        "colab": {
          "base_uri": "https://localhost:8080/"
        },
        "id": "_SHdERls4aRO",
        "outputId": "909940ee-fb57-4af1-ae9e-7bb644cf4eac"
      },
      "execution_count": 14,
      "outputs": [
        {
          "output_type": "execute_result",
          "data": {
            "text/plain": [
              "dtype('float64')"
            ]
          },
          "metadata": {},
          "execution_count": 14
        }
      ]
    },
    {
      "cell_type": "code",
      "source": [
        "c.reshape(1,6)"
      ],
      "metadata": {
        "colab": {
          "base_uri": "https://localhost:8080/"
        },
        "id": "aEom4Fq84a4Q",
        "outputId": "57373176-35d7-48af-fabc-7aa7a5eda16d"
      },
      "execution_count": 15,
      "outputs": [
        {
          "output_type": "execute_result",
          "data": {
            "text/plain": [
              "array([[0., 0., 0., 0., 0., 0.]])"
            ]
          },
          "metadata": {},
          "execution_count": 15
        }
      ]
    },
    {
      "cell_type": "code",
      "source": [
        "c.astype('int')"
      ],
      "metadata": {
        "colab": {
          "base_uri": "https://localhost:8080/"
        },
        "id": "o1TRa7GW4cO5",
        "outputId": "f885c87d-7e0e-4c83-f75c-e788235a12e1"
      },
      "execution_count": 16,
      "outputs": [
        {
          "output_type": "execute_result",
          "data": {
            "text/plain": [
              "array([[0, 0, 0],\n",
              "       [0, 0, 0]])"
            ]
          },
          "metadata": {},
          "execution_count": 16
        }
      ]
    },
    {
      "cell_type": "code",
      "source": [
        "d.shape"
      ],
      "metadata": {
        "colab": {
          "base_uri": "https://localhost:8080/"
        },
        "id": "m4oOYlCZ4d2Q",
        "outputId": "e79302f9-9056-4e11-96d4-b5a75f97e323"
      },
      "execution_count": 17,
      "outputs": [
        {
          "output_type": "execute_result",
          "data": {
            "text/plain": [
              "(10,)"
            ]
          },
          "metadata": {},
          "execution_count": 17
        }
      ]
    },
    {
      "cell_type": "code",
      "source": [
        "d1 = d.reshape(2,5)\n",
        "d1"
      ],
      "metadata": {
        "colab": {
          "base_uri": "https://localhost:8080/"
        },
        "id": "WjFLIjX_5s1i",
        "outputId": "8754e7a6-5c39-4962-e08c-becf3db4a19f"
      },
      "execution_count": 18,
      "outputs": [
        {
          "output_type": "execute_result",
          "data": {
            "text/plain": [
              "array([[0, 1, 2, 3, 4],\n",
              "       [5, 6, 7, 8, 9]])"
            ]
          },
          "metadata": {},
          "execution_count": 18
        }
      ]
    },
    {
      "cell_type": "code",
      "source": [
        "d1.shape"
      ],
      "metadata": {
        "colab": {
          "base_uri": "https://localhost:8080/"
        },
        "id": "lYNai54A5xYI",
        "outputId": "9468c801-2971-447f-f21b-972107901e1e"
      },
      "execution_count": 19,
      "outputs": [
        {
          "output_type": "execute_result",
          "data": {
            "text/plain": [
              "(2, 5)"
            ]
          },
          "metadata": {},
          "execution_count": 19
        }
      ]
    },
    {
      "cell_type": "code",
      "source": [
        "d1.ravel()    # 배열을 행 순서로 이어 붙여 1차원 배열로 변환"
      ],
      "metadata": {
        "colab": {
          "base_uri": "https://localhost:8080/"
        },
        "id": "clxnb8tu51BC",
        "outputId": "b9c66876-adcc-46e4-ebbb-a467ab684f0e"
      },
      "execution_count": 20,
      "outputs": [
        {
          "output_type": "execute_result",
          "data": {
            "text/plain": [
              "array([0, 1, 2, 3, 4, 5, 6, 7, 8, 9])"
            ]
          },
          "metadata": {},
          "execution_count": 20
        }
      ]
    },
    {
      "cell_type": "code",
      "source": [
        "d1[0]"
      ],
      "metadata": {
        "colab": {
          "base_uri": "https://localhost:8080/"
        },
        "id": "2VJEs2Fe6Cj_",
        "outputId": "9a9ac8cf-c058-43c2-c725-d176535ecb65"
      },
      "execution_count": 21,
      "outputs": [
        {
          "output_type": "execute_result",
          "data": {
            "text/plain": [
              "array([0, 1, 2, 3, 4])"
            ]
          },
          "metadata": {},
          "execution_count": 21
        }
      ]
    },
    {
      "cell_type": "code",
      "source": [
        "d1[1]"
      ],
      "metadata": {
        "colab": {
          "base_uri": "https://localhost:8080/"
        },
        "id": "T2CE-8kC6DvD",
        "outputId": "24baa76b-51e1-424b-d2e3-8ecfc471147c"
      },
      "execution_count": 22,
      "outputs": [
        {
          "output_type": "execute_result",
          "data": {
            "text/plain": [
              "array([5, 6, 7, 8, 9])"
            ]
          },
          "metadata": {},
          "execution_count": 22
        }
      ]
    },
    {
      "cell_type": "code",
      "source": [
        "d1[0][2]"
      ],
      "metadata": {
        "colab": {
          "base_uri": "https://localhost:8080/"
        },
        "id": "xF4iCFIN6FGE",
        "outputId": "76d7eaf6-b264-43d5-e063-3c8a17b21668"
      },
      "execution_count": 23,
      "outputs": [
        {
          "output_type": "execute_result",
          "data": {
            "text/plain": [
              "2"
            ]
          },
          "metadata": {},
          "execution_count": 23
        }
      ]
    },
    {
      "cell_type": "code",
      "source": [
        "d1[0,2]"
      ],
      "metadata": {
        "colab": {
          "base_uri": "https://localhost:8080/"
        },
        "id": "ZSnCgExK6GDa",
        "outputId": "3ed528b2-8c2b-4db6-e2de-96a92e47450d"
      },
      "execution_count": 24,
      "outputs": [
        {
          "output_type": "execute_result",
          "data": {
            "text/plain": [
              "2"
            ]
          },
          "metadata": {},
          "execution_count": 24
        }
      ]
    },
    {
      "cell_type": "code",
      "source": [
        "d1[0, 2:4]"
      ],
      "metadata": {
        "colab": {
          "base_uri": "https://localhost:8080/"
        },
        "id": "yEGTswwo6G69",
        "outputId": "ab335688-990a-4b0a-bc69-a4bed4c8acbc"
      },
      "execution_count": 25,
      "outputs": [
        {
          "output_type": "execute_result",
          "data": {
            "text/plain": [
              "array([2, 3])"
            ]
          },
          "metadata": {},
          "execution_count": 25
        }
      ]
    },
    {
      "cell_type": "code",
      "source": [
        "d1[0, :2]"
      ],
      "metadata": {
        "colab": {
          "base_uri": "https://localhost:8080/"
        },
        "id": "qqJKq0oP6dCg",
        "outputId": "137462ef-560d-41d7-fde2-4ad58cffc46a"
      },
      "execution_count": 26,
      "outputs": [
        {
          "output_type": "execute_result",
          "data": {
            "text/plain": [
              "array([0, 1])"
            ]
          },
          "metadata": {},
          "execution_count": 26
        }
      ]
    },
    {
      "cell_type": "code",
      "source": [
        "d1[-1, 3]"
      ],
      "metadata": {
        "colab": {
          "base_uri": "https://localhost:8080/"
        },
        "id": "l0-Cr4sD6fnl",
        "outputId": "6f4a47e4-a021-4a26-ce17-d0f99f42f00d"
      },
      "execution_count": 27,
      "outputs": [
        {
          "output_type": "execute_result",
          "data": {
            "text/plain": [
              "8"
            ]
          },
          "metadata": {},
          "execution_count": 27
        }
      ]
    },
    {
      "cell_type": "code",
      "source": [
        "# 2.3.3 조건문을 이용한 인덱스 검색\n",
        "mu = 0\n",
        "sigma = 1\n",
        "arr = np.random.normal(mu, sigma, (5,3))    # 평균 0, 표준편차 1인 정규분표를 따르는 5행 3열 배열\n",
        "arr"
      ],
      "metadata": {
        "colab": {
          "base_uri": "https://localhost:8080/"
        },
        "id": "fV1NoMwE6guP",
        "outputId": "20a39fdd-5ad2-477b-d5cd-03e178e95642"
      },
      "execution_count": 28,
      "outputs": [
        {
          "output_type": "execute_result",
          "data": {
            "text/plain": [
              "array([[-0.04998729, -3.09837162,  1.13550057],\n",
              "       [ 0.26116901,  0.07935438,  1.17614973],\n",
              "       [ 0.01359489, -0.60939595,  0.18444863],\n",
              "       [-1.14326416, -0.43256692, -0.0085043 ],\n",
              "       [-0.39821112,  1.18922148,  0.91034041]])"
            ]
          },
          "metadata": {},
          "execution_count": 28
        }
      ]
    },
    {
      "cell_type": "code",
      "source": [
        "np.where(abs(arr) > sigma, \"out\", \"in\")    # 조건 만족시 out, 아니면 in"
      ],
      "metadata": {
        "colab": {
          "base_uri": "https://localhost:8080/"
        },
        "id": "vSSKmuAT6wrA",
        "outputId": "8320dc04-224d-4c72-ed07-02b71e115d0f"
      },
      "execution_count": 29,
      "outputs": [
        {
          "output_type": "execute_result",
          "data": {
            "text/plain": [
              "array([['in', 'out', 'out'],\n",
              "       ['in', 'in', 'out'],\n",
              "       ['in', 'in', 'in'],\n",
              "       ['out', 'in', 'in'],\n",
              "       ['in', 'out', 'in']], dtype='<U3')"
            ]
          },
          "metadata": {},
          "execution_count": 29
        }
      ]
    },
    {
      "cell_type": "code",
      "source": [
        "np.where(abs(arr) > sigma)    # 행에 대한 인덱스, 열에 대한 인덱스"
      ],
      "metadata": {
        "colab": {
          "base_uri": "https://localhost:8080/"
        },
        "id": "brHEdDAx6-dm",
        "outputId": "de09e5dd-8abd-4966-c463-acbe45134cc9"
      },
      "execution_count": 31,
      "outputs": [
        {
          "output_type": "execute_result",
          "data": {
            "text/plain": [
              "(array([0, 0, 1, 3, 4]), array([1, 2, 2, 0, 1]))"
            ]
          },
          "metadata": {},
          "execution_count": 31
        }
      ]
    },
    {
      "cell_type": "code",
      "source": [
        "# 2.3.4 배열의 기본 연산\n",
        "a = np.array([[1,3], [0,-1]])\n",
        "b = np.random.randint(0,10,4).reshape(2,2)\n",
        "a + b"
      ],
      "metadata": {
        "colab": {
          "base_uri": "https://localhost:8080/"
        },
        "id": "tL_eyep67rNc",
        "outputId": "61dbcd86-c640-4fb2-c1b3-521a991a82a7"
      },
      "execution_count": 32,
      "outputs": [
        {
          "output_type": "execute_result",
          "data": {
            "text/plain": [
              "array([[3, 5],\n",
              "       [3, 3]])"
            ]
          },
          "metadata": {},
          "execution_count": 32
        }
      ]
    },
    {
      "cell_type": "code",
      "source": [
        "a, b"
      ],
      "metadata": {
        "colab": {
          "base_uri": "https://localhost:8080/"
        },
        "id": "7jSPbJ5_8GU7",
        "outputId": "066adb46-14cd-41e2-887d-9b3b11274cac"
      },
      "execution_count": 33,
      "outputs": [
        {
          "output_type": "execute_result",
          "data": {
            "text/plain": [
              "(array([[ 1,  3],\n",
              "        [ 0, -1]]), array([[2, 2],\n",
              "        [3, 4]]))"
            ]
          },
          "metadata": {},
          "execution_count": 33
        }
      ]
    },
    {
      "cell_type": "code",
      "source": [
        "a * b"
      ],
      "metadata": {
        "colab": {
          "base_uri": "https://localhost:8080/"
        },
        "id": "Yt7N6EIb8KDz",
        "outputId": "7b99b91a-3be5-4956-e751-bcd2b888bd43"
      },
      "execution_count": 34,
      "outputs": [
        {
          "output_type": "execute_result",
          "data": {
            "text/plain": [
              "array([[ 2,  6],\n",
              "       [ 0, -4]])"
            ]
          },
          "metadata": {},
          "execution_count": 34
        }
      ]
    },
    {
      "cell_type": "code",
      "source": [
        "a ** b"
      ],
      "metadata": {
        "colab": {
          "base_uri": "https://localhost:8080/"
        },
        "id": "8SxSRSR08UIw",
        "outputId": "92f3d811-6d0a-478f-c0c6-fa7b88b57a37"
      },
      "execution_count": 35,
      "outputs": [
        {
          "output_type": "execute_result",
          "data": {
            "text/plain": [
              "array([[1, 9],\n",
              "       [0, 1]])"
            ]
          },
          "metadata": {},
          "execution_count": 35
        }
      ]
    },
    {
      "cell_type": "code",
      "source": [
        "2 * a"
      ],
      "metadata": {
        "colab": {
          "base_uri": "https://localhost:8080/"
        },
        "id": "YsWrhJpr8U0W",
        "outputId": "bfeb6f69-9695-447f-a2ec-b26f76ead89b"
      },
      "execution_count": 36,
      "outputs": [
        {
          "output_type": "execute_result",
          "data": {
            "text/plain": [
              "array([[ 2,  6],\n",
              "       [ 0, -2]])"
            ]
          },
          "metadata": {},
          "execution_count": 36
        }
      ]
    },
    {
      "cell_type": "code",
      "source": [
        "a - 1"
      ],
      "metadata": {
        "colab": {
          "base_uri": "https://localhost:8080/"
        },
        "id": "XK6BwagJ8aUy",
        "outputId": "4e046464-efe1-46b8-b9d6-7101f1caeb60"
      },
      "execution_count": 37,
      "outputs": [
        {
          "output_type": "execute_result",
          "data": {
            "text/plain": [
              "array([[ 0,  2],\n",
              "       [-1, -2]])"
            ]
          },
          "metadata": {},
          "execution_count": 37
        }
      ]
    },
    {
      "cell_type": "code",
      "source": [
        "np.matmul(a, b)    # 행렬의 곱 연산"
      ],
      "metadata": {
        "colab": {
          "base_uri": "https://localhost:8080/"
        },
        "id": "Z02iv-r88bWW",
        "outputId": "87bf2358-5324-4ecf-857f-6cfc9187d7e6"
      },
      "execution_count": 38,
      "outputs": [
        {
          "output_type": "execute_result",
          "data": {
            "text/plain": [
              "array([[11, 14],\n",
              "       [-3, -4]])"
            ]
          },
          "metadata": {},
          "execution_count": 38
        }
      ]
    },
    {
      "cell_type": "code",
      "source": [
        "# 2.3.5 배열의 병합\n",
        "np.concatenate([a, b], axis = 0)"
      ],
      "metadata": {
        "colab": {
          "base_uri": "https://localhost:8080/"
        },
        "id": "OZwGNjvq8fyc",
        "outputId": "90b7db4d-9e51-4cc3-a618-89085629e7f9"
      },
      "execution_count": 39,
      "outputs": [
        {
          "output_type": "execute_result",
          "data": {
            "text/plain": [
              "array([[ 1,  3],\n",
              "       [ 0, -1],\n",
              "       [ 2,  2],\n",
              "       [ 3,  4]])"
            ]
          },
          "metadata": {},
          "execution_count": 39
        }
      ]
    },
    {
      "cell_type": "code",
      "source": [
        "np.concatenate([a, b], axis = 1)"
      ],
      "metadata": {
        "colab": {
          "base_uri": "https://localhost:8080/"
        },
        "id": "daZ8heWL8zL9",
        "outputId": "c5918e8f-d9aa-48a5-bc67-be7e625ed2ee"
      },
      "execution_count": 40,
      "outputs": [
        {
          "output_type": "execute_result",
          "data": {
            "text/plain": [
              "array([[ 1,  3,  2,  2],\n",
              "       [ 0, -1,  3,  4]])"
            ]
          },
          "metadata": {},
          "execution_count": 40
        }
      ]
    },
    {
      "cell_type": "code",
      "source": [
        "np.vstack((a,b))"
      ],
      "metadata": {
        "colab": {
          "base_uri": "https://localhost:8080/"
        },
        "id": "6w2e1Kdn81bD",
        "outputId": "20b4cb19-bedb-4d5b-d817-c27c8a6a2608"
      },
      "execution_count": 41,
      "outputs": [
        {
          "output_type": "execute_result",
          "data": {
            "text/plain": [
              "array([[ 1,  3],\n",
              "       [ 0, -1],\n",
              "       [ 2,  2],\n",
              "       [ 3,  4]])"
            ]
          },
          "metadata": {},
          "execution_count": 41
        }
      ]
    },
    {
      "cell_type": "code",
      "source": [
        "np.hstack((a,b))"
      ],
      "metadata": {
        "colab": {
          "base_uri": "https://localhost:8080/"
        },
        "id": "A_brUjIX83sD",
        "outputId": "b921a353-bb53-4571-a229-2e598a7125a3"
      },
      "execution_count": 43,
      "outputs": [
        {
          "output_type": "execute_result",
          "data": {
            "text/plain": [
              "array([[ 1,  3,  2,  2],\n",
              "       [ 0, -1,  3,  4]])"
            ]
          },
          "metadata": {},
          "execution_count": 43
        }
      ]
    },
    {
      "cell_type": "code",
      "source": [
        "# 2.3.6 다양한 계산 함수\n",
        "des = [np.sum(a), np.mean(a), np.std(a), np.max(a), np.min(a)]\n",
        "print(des)"
      ],
      "metadata": {
        "colab": {
          "base_uri": "https://localhost:8080/"
        },
        "id": "RRN4rfmD844i",
        "outputId": "6b6f4bf9-1b54-4eb0-c64d-4bdd59f85dc7"
      },
      "execution_count": 44,
      "outputs": [
        {
          "output_type": "stream",
          "name": "stdout",
          "text": [
            "[3, 0.75, 1.479019945774904, 3, -1]\n"
          ]
        }
      ]
    },
    {
      "cell_type": "code",
      "source": [
        ""
      ],
      "metadata": {
        "id": "XBQxiGTS9JV_"
      },
      "execution_count": null,
      "outputs": []
    }
  ]
}